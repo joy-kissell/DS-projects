{
 "cells": [
  {
   "cell_type": "code",
   "execution_count": 12,
   "metadata": {},
   "outputs": [
    {
     "name": "stdout",
     "output_type": "stream",
     "text": [
      "Requirement already satisfied: pandas in c:\\users\\joyki\\appdata\\local\\programs\\python\\python310\\lib\\site-packages (2.2.2)\n",
      "Requirement already satisfied: pytz>=2020.1 in c:\\users\\joyki\\appdata\\local\\programs\\python\\python310\\lib\\site-packages (from pandas) (2024.1)\n",
      "Requirement already satisfied: numpy>=1.22.4 in c:\\users\\joyki\\appdata\\local\\programs\\python\\python310\\lib\\site-packages (from pandas) (2.0.1)\n",
      "Requirement already satisfied: python-dateutil>=2.8.2 in c:\\users\\joyki\\appdata\\roaming\\python\\python310\\site-packages (from pandas) (2.9.0.post0)\n",
      "Requirement already satisfied: tzdata>=2022.7 in c:\\users\\joyki\\appdata\\local\\programs\\python\\python310\\lib\\site-packages (from pandas) (2024.1)\n",
      "Requirement already satisfied: six>=1.5 in c:\\users\\joyki\\appdata\\roaming\\python\\python310\\site-packages (from python-dateutil>=2.8.2->pandas) (1.16.0)\n",
      "Note: you may need to restart the kernel to use updated packages.\n",
      "   Book Id                                              Title  \\\n",
      "0        1  Harry Potter and the Half-Blood Prince (Harry ...   \n",
      "1        2  Harry Potter and the Order of the Phoenix (Har...   \n",
      "2        4  Harry Potter and the Chamber of Secrets (Harry...   \n",
      "3        5  Harry Potter and the Prisoner of Azkaban (Harr...   \n",
      "\n",
      "                       Author  average_rating        isbn         isbn13  \\\n",
      "0  J.K. Rowling/Mary GrandPré            4.57  0439785960  9780439785969   \n",
      "1  J.K. Rowling/Mary GrandPré            4.49  0439358078  9780439358071   \n",
      "2                J.K. Rowling            4.42  0439554896  9780439554893   \n",
      "3  J.K. Rowling/Mary GrandPré            4.56  043965548X  9780439655484   \n",
      "\n",
      "  language_code  num_pages  ratings_count  text_reviews_count  \\\n",
      "0           eng        652        2095690               27591   \n",
      "1           eng        870        2153167               29221   \n",
      "2           eng        352           6333                 244   \n",
      "3           eng        435        2339585               36325   \n",
      "\n",
      "  publication_date        publisher  \\\n",
      "0        9/16/2006  Scholastic Inc.   \n",
      "1         9/1/2004  Scholastic Inc.   \n",
      "2        11/1/2003       Scholastic   \n",
      "3         5/1/2004  Scholastic Inc.   \n",
      "\n",
      "                                              genres  \n",
      "0  Fantasy;Young Adult;Fiction;Fantasy,Magic;Chil...  \n",
      "1  Fantasy;Young Adult;Fiction;Fantasy,Magic;Chil...  \n",
      "2  Fantasy;Fiction;Young Adult;Fantasy,Magic;Chil...  \n",
      "3  Fantasy;Fiction;Young Adult;Fantasy,Magic;Chil...  \n"
     ]
    },
    {
     "name": "stderr",
     "output_type": "stream",
     "text": [
      "WARNING: You are using pip version 21.2.4; however, version 24.2 is available.\n",
      "You should consider upgrading via the 'c:\\Users\\joyki\\AppData\\Local\\Programs\\Python\\Python310\\python.exe -m pip install --upgrade pip' command.\n"
     ]
    }
   ],
   "source": [
    "%pip install pandas\n",
    "import pandas as pd\n",
    "goodReads = pd.read_csv(\"Goodreads_books_with_genres.csv\")\n",
    "print(goodReads.head(4))"
   ]
  },
  {
   "cell_type": "code",
   "execution_count": 13,
   "metadata": {},
   "outputs": [
    {
     "name": "stdout",
     "output_type": "stream",
     "text": [
      "Index(['Book Id', 'Title', 'Author', 'average_rating', 'isbn', 'isbn13',\n",
      "       'language_code', 'num_pages', 'ratings_count', 'text_reviews_count',\n",
      "       'publication_date', 'publisher', 'genres'],\n",
      "      dtype='object')\n",
      "object\n"
     ]
    }
   ],
   "source": [
    "goodReads.shape\n",
    "print(goodReads.columns)\n",
    "print(goodReads['genres'].dtype)\n",
    "goodReads['genres'] = goodReads['genres'].str.split(';')\n",
    "#unnamed function to put in other function is lambda\n",
    "#ex) add = lambda x, y: x + y; print(add(3, 5))  # Output: 8\n",
    "goodReads = goodReads[goodReads['genres'].apply(lambda x:isinstance(x, list) and len(x)>0)]\n",
    "goodReads2 = goodReads['genres'].explode()"
   ]
  },
  {
   "cell_type": "code",
   "execution_count": 29,
   "metadata": {},
   "outputs": [
    {
     "name": "stdout",
     "output_type": "stream",
     "text": [
      "genres\n",
      "Fiction             6934\n",
      "Literature          5808\n",
      "Fantasy             5052\n",
      "Classics            3685\n",
      "Historical          3474\n",
      "                    ... \n",
      "Social Justice         1\n",
      "Childrens poetry       1\n",
      "Engineering            1\n",
      "Personal               1\n",
      "Horror tales           1\n",
      "Name: count, Length: 355, dtype: int64\n"
     ]
    }
   ],
   "source": [
    "exploded_genres_df = goodReads2.to_frame(name='genres')\n",
    "simpleGenres = exploded_genres_df['genres'].str.split(',').str[0].to_frame(name='genres')\n",
    "genre_counts = simpleGenres['genres'].value_counts()\n",
    "print(genre_counts)"
   ]
  },
  {
   "cell_type": "code",
   "execution_count": null,
   "metadata": {},
   "outputs": [],
   "source": []
  }
 ],
 "metadata": {
  "kernelspec": {
   "display_name": "Python 3",
   "language": "python",
   "name": "python3"
  },
  "language_info": {
   "codemirror_mode": {
    "name": "ipython",
    "version": 3
   },
   "file_extension": ".py",
   "mimetype": "text/x-python",
   "name": "python",
   "nbconvert_exporter": "python",
   "pygments_lexer": "ipython3",
   "version": "3.10.2"
  }
 },
 "nbformat": 4,
 "nbformat_minor": 2
}
